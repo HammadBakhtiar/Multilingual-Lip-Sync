{
  "nbformat": 4,
  "nbformat_minor": 0,
  "metadata": {
    "colab": {
      "provenance": []
    },
    "kernelspec": {
      "name": "python3",
      "display_name": "Python 3"
    },
    "language_info": {
      "name": "python"
    },
    "accelerator": "GPU",
    "gpuClass": "standard"
  },
  "cells": [
    {
      "cell_type": "code",
      "source": [],
      "metadata": {
        "id": "HNChj7xty80u"
      },
      "execution_count": null,
      "outputs": []
    },
    {
      "cell_type": "code",
      "source": [
        "!pip install fairseq2==0.1 pydub yt-dlp\n",
        "!git clone https://github.com/facebookresearch/seamless_communication.git\n",
        "%cd seamless_communication\n",
        "!git checkout 01c1042841f9bce66902eb2c7512dbdd71d42112 # We will use a stable version; if you want to use the latest version, comment out this line.\n",
        "!pip install ."
      ],
      "metadata": {
        "id": "dsd4m5D96ePM"
      },
      "execution_count": null,
      "outputs": []
    },
    {
      "cell_type": "markdown",
      "source": [
        "Utility Functions and Libraries"
      ],
      "metadata": {
        "id": "e4SNreKd7IQ1"
      }
    },
    {
      "cell_type": "code",
      "source": [
        "from seamless_communication.models.inference import Translator\n",
        "from IPython.display import Audio\n",
        "from pydub import AudioSegment\n",
        "from pydub.silence import split_on_silence\n",
        "from pydub import AudioSegment\n",
        "import torchaudio\n",
        "import torch\n",
        "import os\n",
        "\n",
        "def save_and_play_audio(path_save, audio, sample_rate):\n",
        "    torchaudio.save(\n",
        "        path_save,\n",
        "        audio[0].cpu(),\n",
        "        sample_rate=sample_rate,\n",
        "    )\n",
        "\n",
        "    audio_play = Audio(path_save, rate=sample_rate, autoplay=True, normalize=True)\n",
        "    display(audio_play)\n",
        "\n",
        "def split_audio_with_max_duration(input_file, output_directory, min_silence_len=2500, silence_thresh=-60, max_chunk_duration=15000):\n",
        "\n",
        "    sound = AudioSegment.from_wav(input_file)\n",
        "\n",
        "    # Splitting on silence\n",
        "    audio_chunks = split_on_silence(sound, min_silence_len=min_silence_len, silence_thresh=silence_thresh)\n",
        "\n",
        "    # split for max_chunk_duration\n",
        "    final_audio_chunks = []\n",
        "    for chunk in audio_chunks:\n",
        "        if len(chunk) > max_chunk_duration:\n",
        "            num_subchunks = len(chunk) // max_chunk_duration + 1\n",
        "            subchunk_size = len(chunk) // num_subchunks\n",
        "            for i in range(num_subchunks):\n",
        "                start_idx = i * subchunk_size\n",
        "                end_idx = (i + 1) * subchunk_size\n",
        "                subchunk = chunk[start_idx:end_idx]\n",
        "                final_audio_chunks.append(subchunk)\n",
        "        else:\n",
        "            final_audio_chunks.append(chunk)\n",
        "\n",
        "    # Export wav\n",
        "    for i, chunk in enumerate(final_audio_chunks):\n",
        "        output_file = f\"{output_directory}/chunk{i}.wav\"\n",
        "        print(\"Exporting file\", output_file)\n",
        "        chunk.export(output_file, format=\"wav\")"
      ],
      "metadata": {
        "id": "ANIk5wTgMVs8"
      },
      "execution_count": null,
      "outputs": []
    },
    {
      "cell_type": "markdown",
      "source": [
        "Load the model"
      ],
      "metadata": {
        "id": "VHu5O2KzDzjv"
      }
    },
    {
      "cell_type": "code",
      "source": [
        "# Initialize a Translator object with a multitask model, vocoder on the GPU.\n",
        "translator = Translator(\n",
        "    \"seamlessM4T_large\",\n",
        "    \"vocoder_36langs\",\n",
        "    torch.device(\"cuda:0\")\n",
        ")"
      ],
      "metadata": {
        "colab": {
          "base_uri": "https://localhost:8080/"
        },
        "id": "Nu7DMElH6GAF",
        "outputId": "5bfb25c1-d70c-4acc-d72e-e80f132fc5f3"
      },
      "execution_count": null,
      "outputs": [
        {
          "output_type": "stream",
          "name": "stderr",
          "text": [
            "Downloading the checkpoint of the model 'seamlessM4T_large'...\n",
            "100%|██████████| 10.7G/10.7G [00:57<00:00, 200MB/s]\n",
            "Downloading the tokenizer of the model 'seamlessM4T_large'...\n",
            "100%|██████████| 4.93M/4.93M [00:00<00:00, 104MB/s]\n",
            "Downloading the checkpoint of the model 'vocoder_36langs'...\n",
            "100%|██████████| 160M/160M [00:00<00:00, 244MB/s]\n"
          ]
        }
      ]
    },
    {
      "cell_type": "code",
      "source": [
        "text = 'En el bosque encantado'"
      ],
      "metadata": {
        "id": "ShvYHvDUd-62"
      },
      "execution_count": null,
      "outputs": []
    },
    {
      "cell_type": "code",
      "source": [
        "translated_text, wav, sr = translator.predict(\n",
        "    text,\n",
        "    \"t2st\",\n",
        "    tgt_lang='eng',\n",
        "    src_lang='spa'\n",
        ")\n",
        "\n",
        "save_and_play_audio(\n",
        "    '/content/seamless_communication/text2speech.wav',\n",
        "    wav,\n",
        "    sr,\n",
        ")"
      ],
      "metadata": {
        "id": "r9QCrEwmeM4O"
      },
      "execution_count": null,
      "outputs": []
    },
    {
      "cell_type": "code",
      "source": [
        "!git clone https://github.com/ajay-sainy/Wav2Lip-GFPGAN.git\n",
        "basePath = \"/content/Wav2Lip-GFPGAN\"\n",
        "%cd {basePath}"
      ],
      "metadata": {
        "id": "YhFe3CJGAIiV"
      },
      "execution_count": null,
      "outputs": []
    },
    {
      "cell_type": "code",
      "source": [
        "wav2lipFolderName = 'Wav2Lip-master'\n",
        "gfpganFolderName = 'GFPGAN-master'\n",
        "wav2lipPath = basePath + '/' + wav2lipFolderName\n",
        "gfpganPath = basePath + '/' + gfpganFolderName\n",
        "\n",
        "!wget 'https://www.adrianbulat.com/downloads/python-fan/s3fd-619a316812.pth' -O {wav2lipPath}'/face_detection/detection/sfd/s3fd.pth'\n",
        "!gdown https://drive.google.com/uc?id=1fQtBSYEyuai9MjBOF8j7zZ4oQ9W2N64q --output {wav2lipPath}'/checkpoints/'"
      ],
      "metadata": {
        "id": "mH7A_OaFUs8U"
      },
      "execution_count": null,
      "outputs": []
    },
    {
      "cell_type": "code",
      "source": [
        "!pip install -r requirements.txt"
      ],
      "metadata": {
        "id": "CAJqWQS17Qk1"
      },
      "execution_count": null,
      "outputs": []
    },
    {
      "cell_type": "code",
      "execution_count": null,
      "metadata": {
        "id": "EqX_2YtkUjRI"
      },
      "outputs": [],
      "source": [
        "import os\n",
        "outputPath = basePath+'/outputs'\n",
        "inputAudioPath = '/content/seamless_communication/text2speech.wav'\n",
        "inputVideoPath = basePath + '/inputs/kimk_7s_raw.mp4'\n",
        "lipSyncedOutputPath = basePath + '/outputs/result.mp4'\n",
        "\n",
        "if not os.path.exists(outputPath):\n",
        "  os.makedirs(outputPath)\n",
        "\n",
        "!cd $wav2lipFolderName && python inference.py \\\n",
        "--checkpoint_path checkpoints/wav2lip.pth \\\n",
        "--face {inputVideoPath} \\\n",
        "--audio {inputAudioPath} \\\n",
        "--outfile {lipSyncedOutputPath}"
      ]
    },
    {
      "cell_type": "code",
      "source": [
        "!cd $gfpganFolderName && python setup.py develop\n",
        "!wget https://github.com/TencentARC/GFPGAN/releases/download/v1.3.0/GFPGANv1.3.pth -P {gfpganFolderName}'/experiments/pretrained_models'"
      ],
      "metadata": {
        "id": "PPBew5FGGvP9"
      },
      "execution_count": null,
      "outputs": []
    },
    {
      "cell_type": "code",
      "source": [
        "import cv2\n",
        "from tqdm import tqdm\n",
        "from os import path\n",
        "\n",
        "import os\n",
        "\n",
        "inputVideoPath = outputPath+'/result.mp4'\n",
        "unProcessedFramesFolderPath = outputPath+'/frames'\n",
        "\n",
        "if not os.path.exists(unProcessedFramesFolderPath):\n",
        "  os.makedirs(unProcessedFramesFolderPath)\n",
        "\n",
        "vidcap = cv2.VideoCapture(inputVideoPath)\n",
        "numberOfFrames = int(vidcap.get(cv2.CAP_PROP_FRAME_COUNT))\n",
        "fps = vidcap.get(cv2.CAP_PROP_FPS)\n",
        "print(\"FPS: \", fps, \"Frames: \", numberOfFrames)\n",
        "\n",
        "for frameNumber in tqdm(range(numberOfFrames)):\n",
        "    _,image = vidcap.read()\n",
        "    cv2.imwrite(path.join(unProcessedFramesFolderPath, str(frameNumber).zfill(4)+'.jpg'), image)\n"
      ],
      "metadata": {
        "id": "X_RNegAcISU2"
      },
      "execution_count": null,
      "outputs": []
    },
    {
      "cell_type": "code",
      "source": [
        "!cd $gfpganFolderName && \\\n",
        "  python inference_gfpgan.py -i $unProcessedFramesFolderPath -o $outputPath -v 1.3 -s 2 --only_center_face --bg_upsampler None"
      ],
      "metadata": {
        "id": "k6krjfxTJYlu"
      },
      "execution_count": null,
      "outputs": []
    },
    {
      "cell_type": "code",
      "source": [
        "import os\n",
        "restoredFramesPath = outputPath + '/restored_imgs/'\n",
        "processedVideoOutputPath = outputPath\n",
        "\n",
        "dir_list = os.listdir(restoredFramesPath)\n",
        "dir_list.sort()\n",
        "\n",
        "import cv2\n",
        "import numpy as np\n",
        "\n",
        "batch = 0\n",
        "batchSize = 300\n",
        "from tqdm import tqdm\n",
        "for i in tqdm(range(0, len(dir_list), batchSize)):\n",
        "  img_array = []\n",
        "  start, end = i, i+batchSize\n",
        "  print(\"processing \", start, end)\n",
        "  for filename in  tqdm(dir_list[start:end]):\n",
        "      filename = restoredFramesPath+filename;\n",
        "      img = cv2.imread(filename)\n",
        "      if img is None:\n",
        "        continue\n",
        "      height, width, layers = img.shape\n",
        "      size = (width,height)\n",
        "      img_array.append(img)\n",
        "\n",
        "\n",
        "  out = cv2.VideoWriter(processedVideoOutputPath+'/batch_'+str(batch).zfill(4)+'.avi',cv2.VideoWriter_fourcc(*'DIVX'), 30, size)\n",
        "  batch = batch + 1\n",
        "\n",
        "  for i in range(len(img_array)):\n",
        "    out.write(img_array[i])\n",
        "  out.release()\n"
      ],
      "metadata": {
        "id": "XibzGPIVJfvP"
      },
      "execution_count": null,
      "outputs": []
    },
    {
      "cell_type": "code",
      "source": [
        "concatTextFilePath = outputPath + \"/concat.txt\"\n",
        "concatTextFile=open(concatTextFilePath,\"w\")\n",
        "for ips in range(batch):\n",
        "  concatTextFile.write(\"file batch_\" + str(ips).zfill(4) + \".avi\\n\")\n",
        "concatTextFile.close()\n",
        "\n",
        "concatedVideoOutputPath = outputPath + \"/concated_output.avi\"\n",
        "!ffmpeg -y -f concat -i {concatTextFilePath} -c copy {concatedVideoOutputPath}\n",
        "\n",
        "finalProcessedOuputVideo = processedVideoOutputPath+'/final_with_audio.avi'\n",
        "!ffmpeg -y -i {concatedVideoOutputPath} -i {inputAudioPath} -map 0 -map 1:a -c:v copy -shortest {finalProcessedOuputVideo}\n",
        "\n",
        "from google.colab import files\n",
        "files.download(finalProcessedOuputVideo)"
      ],
      "metadata": {
        "id": "jtde28qwpDd6"
      },
      "execution_count": null,
      "outputs": []
    }
  ]
}